{
 "cells": [
  {
   "attachments": {},
   "cell_type": "markdown",
   "metadata": {},
   "source": [
    "# App Client\n",
    "\n",
    "A API é capaz de:\n",
    "\n",
    "* Requisição para criar um arquivo txt;\n",
    "* Requisição para ler um arquivo txt;\n",
    "* Requisição para atualizar um arquivo txt;\n",
    "* A. Requisição para criar um arquivo .csv; \n",
    "* B. Requisição para editar um arquivo .csv (enviando dados para adicionar no csv original); \n",
    "* C. Requisição para ler de n a m linhas de um arquivo .csv;\n",
    "* D. Requisição para retornar valores filtrados da coluna 'Duration' com valores menores que 120 min;\n",
    "* E. Requisição para retornar diferentes instruções e tarefas geradas por Laura"
   ]
  },
  {
   "cell_type": "code",
   "execution_count": null,
   "metadata": {},
   "outputs": [],
   "source": [
    "import requests, json\n",
    "import pandas as pd\n",
    "from data import films\n",
    "\n",
    "url = \"http://127.0.0.1:5000/\"\n",
    "response = requests.get(url=url)\n",
    "print(response.text)"
   ]
  },
  {
   "attachments": {},
   "cell_type": "markdown",
   "metadata": {},
   "source": [
    "1. Criar um endpoint para criar um arquivo.txt"
   ]
  },
  {
   "cell_type": "code",
   "execution_count": null,
   "metadata": {},
   "outputs": [],
   "source": [
    "url = \"http://127.0.0.1:5000/create_file\"\n",
    "payload = {\"filename\": \"aquivo1.txt\"}\n",
    "\n",
    "post_response = requests.post(url=url, json=payload)\n",
    "response_str = json.dumps(post_response.json(), indent=2)\n",
    "print(response_str)"
   ]
  },
  {
   "attachments": {},
   "cell_type": "markdown",
   "metadata": {},
   "source": [
    "2. Criar um endpoint para ler um arquivo .txt"
   ]
  },
  {
   "cell_type": "code",
   "execution_count": null,
   "metadata": {},
   "outputs": [],
   "source": [
    "url = \"http://127.0.0.1:5000/read_file\"\n",
    "payload = {\"filename\": \"arquivo1.txt\"}\n",
    "\n",
    "post_response = requests.post(url=url, json=payload)\n",
    "response_str = json.dumps(post_response.json(), indent=2)\n",
    "print(response_str)"
   ]
  },
  {
   "attachments": {},
   "cell_type": "markdown",
   "metadata": {},
   "source": [
    "3. Criar um endpoint para editar arquivo.txt já existente"
   ]
  },
  {
   "cell_type": "code",
   "execution_count": null,
   "metadata": {},
   "outputs": [],
   "source": [
    "url = \"http://127.0.0.1:5000/update_file\"\n",
    "payload = {\"filename\": \"arquivo1.txt\", \"message\": \"\\n Teste do aplicativo\"}\n",
    "\n",
    "post_response = requests.post(url=url, json=payload)\n",
    "response_str = json.dumps(post_response.json(), indent=2)\n",
    "print(response_str)"
   ]
  },
  {
   "attachments": {},
   "cell_type": "markdown",
   "metadata": {},
   "source": [
    "A. Criar um arquivo.csv"
   ]
  },
  {
   "cell_type": "code",
   "execution_count": null,
   "metadata": {},
   "outputs": [],
   "source": [
    "url = \"http://127.0.0.1:5000/create_csv\"\n",
    "payload = {\"filename\": \"films.csv\"}\n",
    "\n",
    "post_response = requests.post(url=url, json=payload)\n",
    "response_str = json.dumps(post_response.json(), indent=2)\n",
    "print(response_str)"
   ]
  },
  {
   "attachments": {},
   "cell_type": "markdown",
   "metadata": {},
   "source": [
    "B. Editar o arquivo.csv criando anteriormente"
   ]
  },
  {
   "cell_type": "code",
   "execution_count": null,
   "metadata": {},
   "outputs": [],
   "source": [
    "url = \"http://127.0.0.1:5000/edit_csv\"\n",
    "payload = {\"filename\": \"films.csv\", \"message\": \"\\n Teste do aplicativo\"}\n",
    "\n",
    "post_response = requests.post(url=url, json=payload)\n",
    "response_str = json.dumps(post_response.json(), indent=2)\n",
    "print(response_str)"
   ]
  }
 ],
 "metadata": {
  "kernelspec": {
   "display_name": "myenv",
   "language": "python",
   "name": "python3"
  },
  "language_info": {
   "codemirror_mode": {
    "name": "ipython",
    "version": 3
   },
   "file_extension": ".py",
   "mimetype": "text/x-python",
   "name": "python",
   "nbconvert_exporter": "python",
   "pygments_lexer": "ipython3",
   "version": "3.10.9"
  },
  "orig_nbformat": 4
 },
 "nbformat": 4,
 "nbformat_minor": 2
}
